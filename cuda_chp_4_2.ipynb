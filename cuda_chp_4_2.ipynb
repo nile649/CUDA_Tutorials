{
  "nbformat": 4,
  "nbformat_minor": 0,
  "metadata": {
    "kernelspec": {
      "display_name": "Python [conda env:pytorch_p36] *",
      "language": "python",
      "name": "conda-env-pytorch_p36-py"
    },
    "language_info": {
      "codemirror_mode": {
        "name": "ipython",
        "version": 3
      },
      "file_extension": ".py",
      "mimetype": "text/x-python",
      "name": "python",
      "nbconvert_exporter": "python",
      "pygments_lexer": "ipython3",
      "version": "3.6.5"
    },
    "colab": {
      "name": "cuda_chp_4_2.ipynb",
      "provenance": [],
      "include_colab_link": true
    }
  },
  "cells": [
    {
      "cell_type": "markdown",
      "metadata": {
        "id": "view-in-github",
        "colab_type": "text"
      },
      "source": [
        "<a href=\"https://colab.research.google.com/github/nile649/Py_CUDA_Tutorials/blob/master/cuda_chp_4_2.ipynb\" target=\"_parent\"><img src=\"https://colab.research.google.com/assets/colab-badge.svg\" alt=\"Open In Colab\"/></a>"
      ]
    },
    {
      "cell_type": "markdown",
      "metadata": {
        "id": "P9FM982M0p_D"
      },
      "source": [
        "#### Difference between ThreadIdx.x, BloackIdx.x\n",
        "***\n",
        "Basically threadIdx.x and threadIdx.y are the numbers associated with each thread within a block. Let’s say you declare your block size to be one dimensional with a size of 8 threads (normally you would want something in multiples of 32 like 192 or 256 depending on your specific code). The variable threadIdx.x would be simultaneously 0,1,2,3,4,5,6 and 7 inside each block. If you declared a two dimensional block size (say (3,3) ) then threadIdx.x would be 0,1,2 and you would now have a threadIdx.y value corresponding to 0,1,2. There are actually nine threads associated with the (3,3) block size. For instance, the thread indices (0,0) (0,1) (1,2) etc refer to independent threads. This convention is very useful for two dimensional applications like working with matrices. Remember, threadIdx.x starts at 0 for each block. Your block can be up to three dimensions which allows for a threadIdx.z index as well.\n",
        "\n",
        "The blockIdx.x and blockIdx.y refers to the label associated with a block in a grid. You are allowed up to a 2-dimensional grid (allowing for blockIdx.x and blockIdx.y). Basically, the blockIdx.x variable is similar to the thread index except it refers to the number associated with the block.\n",
        "\n",
        "Let’s say you want 2 blocks in a 1D grid with 5 threads in each block. Your threadIdx.x would be 0, 1,…,4 for each block and your blockIdx.x would be 0 and 1 depending on the specific block.\n",
        "\n",
        "Now, let’s say you want to load an array of 10 values into a kernel using these two blocks of 5 threads. How would you do this since your thread index only goes 0 - 4 for each block? You would use a third parameter given in CUDA – blockDim.x. This holds the size of the block (in this case blockDim.x = 5). You can refer to the specific element in the array by saying something like…\n",
        "\n",
        "int idx = blockDim.x*blockIdx.x + threadIdx.x\n",
        "\n",
        "This makes idx = 0,1,2,3,4 for the first block because blockIdx.x for the first block is 0. The second block picks up where the first left off because blockIdx.x = 1 and blockDim.x = 5. This makes idx = 5,6,7,8,9 for the second block.\n",
        "***"
      ]
    },
    {
      "cell_type": "markdown",
      "metadata": {
        "id": "C3kcI2Si0p_E"
      },
      "source": [
        "## Thread synchronization and intercommunication\n",
        "We'll now discuss two important concepts in GPU programming—thread synchronization\n",
        "and thread intercommunication.\n",
        "\n",
        "1. Sometimes, we need to ensure that every single thread has reached to the same exact line of the code before we proceed fruther.\n",
        "----- We call this has thread synchronization and it goes hand in hand with thread intercommunication\n",
        "\n",
        "2. Thread intercommunication :-  Different passing thread interacte in way they share data.\n",
        "\n",
        "CUDA **__syncthreads** device function, which is used for synchronizing a single\n",
        "block in a kernel.\n"
      ]
    },
    {
      "cell_type": "markdown",
      "metadata": {
        "id": "P5O4dX_R0p_F"
      },
      "source": [
        "# Using the __syncthreads() device function\n",
        "\n",
        "If we use iteration, there could be race case scenario where one thread may reach faster than the other, this could cause problem. In such case, we need to synchronize all the threads.\n",
        "\n",
        "\"this raises the issue of race conditions; this is the issue of multiple threads\n",
        "reading and writing to the same memory address and the problems that may arise from\n",
        "that.\"\n",
        "\n",
        "This could happen in any scenario from writing in-place, to having iterations based changes.\n",
        "\n",
        "We can avoid race conditions by\n",
        "using a CUDA device function called *** __syncthreads().*** This function is a block level\n",
        "synchronization barrier—this means that every thread that is executing within a block will\n",
        "stop when it reaches a __syncthreads() instance and wait until each and every other\n",
        "thread within the same block reaches that same invocation of __syncthreads() before the\n",
        "the threads continue to execute the subsequent lines of code.\n",
        "\n",
        "<b style=\"color:blue\">\"__syncthreads() can only synchronize threads within a single CUDA\n",
        "block, not all threads within a CUDA grid!\"</b>"
      ]
    },
    {
      "cell_type": "code",
      "metadata": {
        "id": "mb-cG8nX0p_G"
      },
      "source": [
        "# Conway game of life with synchornize"
      ],
      "execution_count": null,
      "outputs": []
    },
    {
      "cell_type": "code",
      "metadata": {
        "id": "8pGUHmjz0p_J"
      },
      "source": [
        "import pycuda.autoinit\n",
        "import pycuda.driver as drv\n",
        "from pycuda import gpuarray\n",
        "from pycuda.compiler import SourceModule\n",
        "import numpy as np\n",
        "import matplotlib.pyplot as plt\n",
        "from IPython.display import HTML"
      ],
      "execution_count": null,
      "outputs": []
    },
    {
      "cell_type": "markdown",
      "metadata": {
        "id": "oOOvRflS0p_L"
      },
      "source": [
        "Can anyone describe the differences between __global__ and __device__ ?\n",
        "\n",
        "When should I use __device__, and when to use __global__?.\n",
        "\n",
        "***\n",
        "Global functions are also called \"kernels\". It's the functions that you may call from the host side using CUDA kernel call semantics (<<<...>>>).\n",
        "\n",
        "Device functions can only be called from other device or global functions. __device__ functions cannot be called from host code.\n",
        "\n",
        "***\n",
        "\n",
        "Link : https://stackoverflow.com/questions/12373940/difference-between-global-and-device-functions"
      ]
    },
    {
      "cell_type": "code",
      "metadata": {
        "id": "Zyr6WZdL0p_M",
        "outputId": "cc14a44e-fb79-4114-a7da-f8b58da54841"
      },
      "source": [
        "kernel = SourceModule(\n",
        "\"\"\"\n",
        "// define index for idx and idy threads for 2D block.\n",
        "\n",
        "#define _X (threadIdx.x + blockIdx.x*blockDim.x)\n",
        "#define _Y (threadIdx.y + blockIdx.y*blockDim.y)\n",
        "\n",
        "// define width and height for the 2D grid\n",
        "#define _Width (blockDim.x * gridDim.x)\n",
        "#define _Height (blockDim.y * gridDim.y)\n",
        "\n",
        "// define index x and y, if they overflow the block ex : 5x5 if the idx increases over 5;\n",
        "\n",
        "__device__ int _Xm(int x){\n",
        "    return (x+_Width)%_Width;\n",
        "    }\n",
        "__device__ int _Ym(int y){\n",
        "    return (y+_Height)%_Height;\n",
        "    }\n",
        "\n",
        "__device__ int _INDEX(int x, int y){\n",
        "    return _Xm(x)+_Ym(y)+_Width;\n",
        "    }\n",
        "// Since our cell lattice is stored row-wise, we have to multiply the y-value by the width to\n",
        "// offset to the point corresponding to the appropriate row.\n",
        "\n",
        "__device__ int nbrs(int X, int Y, int *input){ // inputs are passed as pointers by reference, \\\n",
        "//since c doesn't have pass reference, so we pass by pointer.\n",
        "    return (input[_INDEX(X-1,Y-1)]+input[_INDEX(X-1,Y)]+input[_INDEX(X-1,Y+1)]\\\n",
        "    +input[_INDEX(X,Y-1)]+input[_INDEX(X,Y+1)]\\\n",
        "    +input[_INDEX(X+1,Y-1)]+input[_INDEX(X+1,Y)]+input[_INDEX(X+1,Y+1)]);\n",
        "    }\n",
        "    \n",
        "\n",
        "// main kernel macro that will be called from host to device.\n",
        "\n",
        "__global__ void conway_ker(int * lattice, int iters){\n",
        "   // x, y are the appropriate values for the cell covered by this thread\n",
        "   int x = _X, y = _Y;\n",
        "   \n",
        "   for (int i = 0; i < iters; i++)\n",
        "   {\n",
        "   \n",
        "       // count the number of neighbors around the current cell\n",
        "       int n = nbrs(x, y, lattice);\n",
        "       \n",
        "       int cell_value;\n",
        "                       \n",
        "        \n",
        "        // if the current cell is alive, then determine if it lives or dies for the next generation.\n",
        "        if ( lattice[_INDEX(x,y)] == 1)\n",
        "           switch(n)\n",
        "           {\n",
        "              // if the cell is alive: it remains alive only if it has 2 or 3 neighbors.\n",
        "              case 2:\n",
        "              case 3: cell_value = 1;\n",
        "                      break;\n",
        "              default: cell_value = 0;                   \n",
        "           }\n",
        "        else if( lattice[_INDEX(x,y)] == 0 )\n",
        "             switch(n)\n",
        "             {\n",
        "                // a dead cell comes to life only if it has 3 neighbors that are alive.\n",
        "                case 3: cell_value = 1;\n",
        "                        break;\n",
        "                default: cell_value = 0;         \n",
        "             }\n",
        "             \n",
        "        __syncthreads();\n",
        "        lattice[_INDEX(x,y)] = cell_value;\n",
        "        __syncthreads(); \n",
        "    }\n",
        "         \n",
        "    }\n",
        "\"\"\")\n",
        "\n",
        "\n",
        "conway_ker = kernel.get_function(\"conway_ker\")\n",
        "     \n",
        "\n",
        "    \n",
        "\n",
        "if __name__ == '__main__':\n",
        "    # set lattice size\n",
        "    N = 32\n",
        "    \n",
        "    lattice = np.int32( np.random.choice([1,0], N*N, p=[0.25, 0.75]).reshape(N, N) )\n",
        "    lattice_gpu = gpuarray.to_gpu(lattice)\n",
        "    conway_ker(lattice_gpu, np.int32(100000), grid=(2,2,1), block=(32,32,1))\n",
        "    fig = plt.figure(1)\n",
        "    plt.imshow(lattice_gpu.get())\n",
        "    plt.show()"
      ],
      "execution_count": null,
      "outputs": [
        {
          "output_type": "display_data",
          "data": {
            "image/png": "[encoded data removed]",
            "text/plain": [
              "<Figure size 432x288 with 1 Axes>"
            ]
          },
          "metadata": {
            "tags": []
          }
        }
      ]
    },
    {
      "cell_type": "markdown",
      "metadata": {
        "id": "nbnvvpJF0p_P"
      },
      "source": [
        "## LINE : _Xm\n",
        "\n",
        "The _WIDTH and _HEIGHT macros will give us the width and height of our cell lattice,\n",
        "respectively, which should be clear from the diagrams. Let's discuss the _XM and _YM\n",
        "macros. In our implementation of LIFE, we'll have the endpoints \"wrap around\" to the\n",
        "other side of the lattice—for example, we'll consider the x-value of -1 to be _WIDTH - 1,\n",
        "and a y-value of -1 to be _HEIGHT - 1, and we'll likewise consider an x-value of _WIDTH\n",
        "to be 0 and a y-value of _HEIGHT to be 0. Why do we need this? When we calculate the\n",
        "number of living neighbors of a given cell, we might be at some edge and the neighbors\n",
        "might be external points—defining these macros to modulate our points will cover this for\n",
        "us automatically. Notice that we have to add the width or height before we use C's\n",
        "modulus operator—this is because, unlike Python, the modulus operator in C can return\n",
        "negative values for integers. \n",
        "\n",
        "## \n",
        "\n",
        "************\n",
        "    We now have one final macro to define. We recall that PyCUDA passes two-dimensional\n",
        "    arrays into CUDA C as one-dimensional pointers; two-dimensional arrays are passed in\n",
        "    row-wise from Python into one dimensional C pointers. This means that we'll have to\n",
        "    translate a given Cartesian (x,y) point for a given cell on the lattice into a one dimensional\n",
        "    point within the pointer corresponding to the lattice. Here, we can do so as follows:\n",
        "\n",
        " #define _INDEX(x,y) ( _XM(x) + _YM(y) * _WIDTH )\n",
        "************\n",
        "\n",
        "\n",
        "##\n",
        "\n",
        "***********\n",
        "A CUDA device function is a serial C function that is called by an\n",
        "individual CUDA thread from within a kernel. While these functions are\n",
        "serial in themselves, they can be run in parallel by multiple GPU threads.\n",
        "Device functions cannot by themselves by launched by a host computer\n",
        "onto a GPU, only kernels.\n",
        "\n",
        "***********"
      ]
    },
    {
      "cell_type": "markdown",
      "metadata": {
        "id": "CBlMMhSV0p_P"
      },
      "source": [
        "# Using shared memory\n",
        "\n",
        "1. Threads in a block can communicate with each other using GUP's global memory.\n",
        "2. We can speedup things using shared memory.\n",
        "3. This is a type of memory meant specifically for intercommunication of threads within a single CUDA block;\n",
        "4. Shared memory is recommended for a block so that threads can inter-communicate with each other.\n",
        "5. In contrast to global memory, though, memory stored in shared memory cannot directly be accessed by the host—shared memory must be copied back into global memory by the kernel itself first.\n"
      ]
    },
    {
      "cell_type": "markdown",
      "metadata": {
        "id": "Bue5DfJW0p_P"
      },
      "source": [
        "##\n",
        "***\n",
        "Local thread arrays (for example, a declaration of int a[10]; within the\n",
        "kernel) and pointers to global GPU memory (for example, a value passed\n",
        "as a kernel parameter of the form int * b) may look and act similarly,\n",
        "but are very different. \n",
        "\n",
        "For every thread in the kernel, there will be a separate a array that the other threads cannot read, yet there is a single gloabl b that will hold the same values and be equally accessible for all of the threads.\n",
        "\n",
        "\n",
        "We are prepared to use shared memory. This allows us to declare variables and arrays that\n",
        "are shared among the threads within a single CUDA block. This memory is much faster\n",
        "than using global memory pointers (as we have been using\n",
        "\n",
        "***"
      ]
    },
    {
      "cell_type": "code",
      "metadata": {
        "id": "pKnS4TiV0p_Q",
        "outputId": "d6151fff-8485-45bb-c134-9af175efa7e0"
      },
      "source": [
        "from IPython.display import Audio,Image, YouTubeVideo\n",
        "id='UUvagsM176o'\n",
        "print(\"How many thread threads operate on shared memory!!!!!\")\n",
        "YouTubeVideo(id=id,width=600,height=300)"
      ],
      "execution_count": null,
      "outputs": [
        {
          "output_type": "stream",
          "text": [
            "How many thread threads operate on shared memory!!!!!\n"
          ],
          "name": "stdout"
        },
        {
          "output_type": "execute_result",
          "data": {
            "image/jpeg": "[encoded data removed]",
            "text/html": [
              "\n",
              "        <iframe\n",
              "            width=\"600\"\n",
              "            height=\"300\"\n",
              "            src=\"https://www.youtube.com/embed/UUvagsM176o\"\n",
              "            frameborder=\"0\"\n",
              "            allowfullscreen\n",
              "        ></iframe>\n",
              "        "
            ],
            "text/plain": [
              "<IPython.lib.display.YouTubeVideo at 0x7fa660be6e48>"
            ]
          },
          "metadata": {
            "tags": []
          },
          "execution_count": 9
        }
      ]
    },
    {
      "cell_type": "code",
      "metadata": {
        "id": "oIDDPUTD0p_S",
        "outputId": "01adba13-1100-4e27-c507-d6f94b6d16d2"
      },
      "source": [
        "### WIth shared variable\n",
        "\n",
        "kernel = SourceModule(\n",
        "\"\"\"\n",
        "// define index for idx and idy threads for 2D block.\n",
        "\n",
        "#define _X (threadIdx.x + blockIdx.x*blockDim.x)\n",
        "#define _Y (threadIdx.y + blockIdx.y*blockDim.y)\n",
        "\n",
        "// define width and height for the 2D grid\n",
        "#define _Width (blockDim.x * gridDim.x)\n",
        "#define _Height (blockDim.y * gridDim.y)\n",
        "\n",
        "// define index x and y, if they overflow the block ex : 5x5 if the idx increases over 5;\n",
        "\n",
        "__device__ int _Xm(int x){\n",
        "    return (x+_Width)%_Width;\n",
        "    }\n",
        "__device__ int _Ym(int y){\n",
        "    return (y+_Height)%_Height;\n",
        "    }\n",
        "\n",
        "__device__ int _INDEX(int x, int y){\n",
        "    return _Xm(x)+_Ym(y)+_Width;\n",
        "    }\n",
        "// Since our cell lattice is stored row-wise, we have to multiply the y-value by the width to\n",
        "// offset to the point corresponding to the appropriate row.\n",
        "\n",
        "__device__ int nbrs(int X, int Y, int *input){ // inputs are passed as pointers by reference, \\\n",
        "//since c doesn't have pass reference, so we pass by pointer.\n",
        "    return (input[_INDEX(X-1,Y-1)]+input[_INDEX(X-1,Y)]+input[_INDEX(X-1,Y+1)]\\\n",
        "    +input[_INDEX(X,Y-1)]+input[_INDEX(X,Y+1)]\\\n",
        "    +input[_INDEX(X+1,Y-1)]+input[_INDEX(X+1,Y)]+input[_INDEX(X+1,Y+1)]);\n",
        "    }\n",
        "    \n",
        "\n",
        "// main kernel macro that will be called from host to device.\n",
        "\n",
        "__global__ void conway_ker(int * lattice_g, int iters){\n",
        "   // x, y are the appropriate values for the cell covered by this thread\n",
        "   int x = _X, y = _Y;\n",
        "   \n",
        "   __shared__ int lattice_s[32*32];\n",
        "   \n",
        "   \n",
        "   \n",
        "   // convert a global lattice to shared memory.\n",
        "   lattice_s[_INDEX(x,y)] = lattice_g[_INDEX(x,y)];\n",
        "   __syncthreads();\n",
        "   \n",
        "   \n",
        "   for (int i = 0; i < iters; i++)\n",
        "   {\n",
        "   \n",
        "       // count the number of neighbors around the current cell\n",
        "       int n = nbrs(x, y, lattice_s);\n",
        "       \n",
        "       int cell_value;\n",
        "                       \n",
        "        \n",
        "        // if the current cell is alive, then determine if it lives or dies for the next generation.\n",
        "        if ( lattice_s[_INDEX(x,y)] == 1)\n",
        "           switch(n)\n",
        "           {\n",
        "              // if the cell is alive: it remains alive only if it has 2 or 3 neighbors.\n",
        "              case 2:\n",
        "              case 3: cell_value = 1;\n",
        "                      break;\n",
        "              default: cell_value = 0;                   \n",
        "           }\n",
        "        else if( lattice_s[_INDEX(x,y)] == 0 )\n",
        "             switch(n)\n",
        "             {\n",
        "                // a dead cell comes to life only if it has 3 neighbors that are alive.\n",
        "                case 3: cell_value = 1;\n",
        "                        break;\n",
        "                default: cell_value = 0;         \n",
        "             }\n",
        "             \n",
        "        __syncthreads();\n",
        "        lattice_s[_INDEX(x,y)] = cell_value;\n",
        "        __syncthreads(); \n",
        "    }\n",
        "    \n",
        "    __syncthreads();\n",
        "    lattice_g[_INDEX(x,y)] = lattice_s[_INDEX(x,y)];\n",
        "    __syncthreads();\n",
        "    }\n",
        "\"\"\")\n",
        "\n",
        "\n",
        "conway_ker = kernel.get_function(\"conway_ker\")\n",
        "     \n",
        "\n",
        "    \n",
        "\n",
        "if __name__ == '__main__':\n",
        "    # set lattice size\n",
        "    N = 32\n",
        "    \n",
        "    lattice = np.int32( np.random.choice([1,0], N*N, p=[0.25, 0.75]).reshape(N, N) )\n",
        "    lattice_gpu = gpuarray.to_gpu(lattice)\n",
        "    conway_ker(lattice_gpu, np.int32(100000), grid=(2,2,1), block=(32,32,1))\n",
        "    fig = plt.figure(1)\n",
        "    plt.imshow(lattice_gpu.get())\n",
        "    plt.show()"
      ],
      "execution_count": null,
      "outputs": [
        {
          "output_type": "display_data",
          "data": {
            "image/png": "[encoded data removed]",
            "text/plain": [
              "<Figure size 432x288 with 1 Axes>"
            ]
          },
          "metadata": {
            "tags": []
          }
        }
      ]
    },
    {
      "cell_type": "markdown",
      "metadata": {
        "id": "7fMZxdWo0p_U"
      },
      "source": [
        "## Stackoverflow Explanation \n",
        "https://stackoverflow.com/questions/8011376/when-is-cudas-shared-memory-useful"
      ]
    },
    {
      "cell_type": "code",
      "metadata": {
        "id": "6pj2irJo0p_U"
      },
      "source": [
        ""
      ],
      "execution_count": null,
      "outputs": []
    }
  ]
}